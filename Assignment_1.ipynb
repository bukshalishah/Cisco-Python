{
  "nbformat": 4,
  "nbformat_minor": 0,
  "metadata": {
    "colab": {
      "name": "Assignment 1.ipynb",
      "provenance": [],
      "collapsed_sections": [],
      "include_colab_link": true
    },
    "kernelspec": {
      "name": "python3",
      "display_name": "Python 3"
    }
  },
  "cells": [
    {
      "cell_type": "markdown",
      "metadata": {
        "id": "view-in-github",
        "colab_type": "text"
      },
      "source": [
        "<a href=\"https://colab.research.google.com/github/bukshalishah/Cisco-Python/blob/master/Assignment_1.ipynb\" target=\"_parent\"><img src=\"https://colab.research.google.com/assets/colab-badge.svg\" alt=\"Open In Colab\"/></a>"
      ]
    },
    {
      "cell_type": "code",
      "metadata": {
        "id": "InWZHvqqfMnv",
        "colab_type": "code",
        "outputId": "5a100610-2fa6-4696-b5d8-bcac4b64c420",
        "colab": {
          "base_uri": "https://localhost:8080/",
          "height": 126
        }
      },
      "source": [
        "print(\"Twinkle, twinkle, little star,\\n\\tHow I wonder what you are! \\n\\t\\tUp above the world so high,\\n\\t\\tLike a diamond in the sky.\\nTwinkle, twinkle, little star,\\n\\tHow I wonder what you are\")"
      ],
      "execution_count": 1,
      "outputs": [
        {
          "output_type": "stream",
          "text": [
            "Twinkle, twinkle, little star,\n",
            "\tHow I wonder what you are! \n",
            "\t\tUp above the world so high,\n",
            "\t\tLike a diamond in the sky.\n",
            "Twinkle, twinkle, little star,\n",
            "\tHow I wonder what you are\n"
          ],
          "name": "stdout"
        }
      ]
    },
    {
      "cell_type": "code",
      "metadata": {
        "id": "OV2SA-o_ff4w",
        "colab_type": "code",
        "outputId": "bd974e02-5064-48b7-c471-c851a244a0ad",
        "colab": {
          "base_uri": "https://localhost:8080/",
          "height": 35
        }
      },
      "source": [
        "# Write a Python program to get the Python version you are using\n",
        "import sys\n",
        "sys.version"
      ],
      "execution_count": 2,
      "outputs": [
        {
          "output_type": "execute_result",
          "data": {
            "text/plain": [
              "'3.6.8 (default, Oct  7 2019, 12:59:55) \\n[GCC 8.3.0]'"
            ]
          },
          "metadata": {
            "tags": []
          },
          "execution_count": 2
        }
      ]
    },
    {
      "cell_type": "code",
      "metadata": {
        "id": "6n6ANG8rgOHa",
        "colab_type": "code",
        "outputId": "8ea4758d-d388-4aae-f6c3-bc981599c4c1",
        "colab": {
          "base_uri": "https://localhost:8080/",
          "height": 35
        }
      },
      "source": [
        "# Write a Python program to display the current date and time.\n",
        "import datetime\n",
        "\n",
        "datetime.datetime.now()"
      ],
      "execution_count": 3,
      "outputs": [
        {
          "output_type": "execute_result",
          "data": {
            "text/plain": [
              "datetime.datetime(2019, 11, 28, 13, 30, 52, 609660)"
            ]
          },
          "metadata": {
            "tags": []
          },
          "execution_count": 3
        }
      ]
    },
    {
      "cell_type": "code",
      "metadata": {
        "id": "OaDYlHZ-hB8a",
        "colab_type": "code",
        "colab": {
          "base_uri": "https://localhost:8080/",
          "height": 54
        },
        "outputId": "69ff5c8d-c5ac-40f7-da2b-971718332bf4"
      },
      "source": [
        "\"\"\" Write a Python program which accepts the radius of a circle from the user\n",
        "and compute the area \"\"\"\n",
        "\n",
        "from math import pi\n",
        "r = float(input(\"Input the radius of the circle: \"))\n",
        "print (\"The area of the circle with radius: \" + str(r) + \" is: \" + str(pi * r**2))"
      ],
      "execution_count": 4,
      "outputs": [
        {
          "output_type": "stream",
          "text": [
            "Input the radius of the circle: 5\n",
            "The area of the circle with radius: 5.0 is: 78.53981633974483\n"
          ],
          "name": "stdout"
        }
      ]
    },
    {
      "cell_type": "code",
      "metadata": {
        "id": "4IxBje9xtCK_",
        "colab_type": "code",
        "colab": {
          "base_uri": "https://localhost:8080/",
          "height": 72
        },
        "outputId": "4a0e9795-e49c-474a-c989-f0ef4acacd7b"
      },
      "source": [
        "''' Write a Python program which accepts the user's first and last name and\n",
        "print them in reverse order with a space between them. '''\n",
        "\n",
        "fname = input(\"First Name: \")\n",
        "lname = input(\"Last Name: \")\n",
        "print(\"Reverse name: \" + lname + \" \" + fname)"
      ],
      "execution_count": 5,
      "outputs": [
        {
          "output_type": "stream",
          "text": [
            "First Name: Buksh\n",
            "Last Name: Ali\n",
            "Reverse name: Ali Buksh\n"
          ],
          "name": "stdout"
        }
      ]
    },
    {
      "cell_type": "code",
      "metadata": {
        "id": "GvgAixy8MR3e",
        "colab_type": "code",
        "colab": {
          "base_uri": "https://localhost:8080/",
          "height": 72
        },
        "outputId": "8c1241de-1783-40a8-f333-355d1a0d82ee"
      },
      "source": [
        "'''Write a python program which takes two inputs from user and print them\n",
        "addition '''\n",
        "\n",
        "input_1 = int(input(\"Input 1: \"))\n",
        "input_2 = int(input(\"Input 2: \"))\n",
        "addition = input_1 + input_2\n",
        "print(\"Result: \" + str(addition))"
      ],
      "execution_count": 6,
      "outputs": [
        {
          "output_type": "stream",
          "text": [
            "Input 1: 5\n",
            "Input 2: 10\n",
            "Result: 15\n"
          ],
          "name": "stdout"
        }
      ]
    }
  ]
}
{
 "cells": [
  {
   "cell_type": "markdown",
   "metadata": {
    "colab_type": "text",
    "id": "L8gsJOnxYHIh"
   },
   "source": [
    "## 1. Make a calculator using Python with addition , subtraction , multiplication ,division and power."
   ]
  },
  {
   "cell_type": "code",
   "execution_count": 1,
   "metadata": {
    "colab": {
     "base_uri": "https://localhost:8080/",
     "height": 217
    },
    "colab_type": "code",
    "id": "IJLC64BGWUbG",
    "outputId": "8ecb2dba-104c-44d9-9534-de5e01bf7ffd"
   },
   "outputs": [
    {
     "name": "stdout",
     "output_type": "stream",
     "text": [
      "----------Simple Calculator----------\n",
      "\t\tSelect operation\n",
      "\t\t1: Add\n",
      "\t\t2: Subtract\n",
      "\t\t3: Multiply\n",
      "\t\t4: Divide\n",
      "\t\t5: Power\n",
      "Enter choice 1--2--3--4--5): 5\n",
      "Enter first number: 10\n",
      "Enter second number: 2\n",
      "10.0 ^ 2.0 = 100.0\n"
     ]
    }
   ],
   "source": [
    "# Addition function\n",
    "def add(x, y):\n",
    "    return x + y\n",
    "# subtraction function\n",
    "def subtract(x, y):\n",
    "    return x - y\n",
    "# multiplication function\n",
    "def multiply(x, y):\n",
    "    return x * y\n",
    "# division function\n",
    "def divide(x, y):\n",
    "    return x / y\n",
    "def power(x, y):\n",
    "    return x**y\n",
    "\n",
    "print(\"----------Simple Calculator----------\")  \n",
    "print(\"\\t\\tSelect operation\")\n",
    "print(\"\\t\\t1: Add\")\n",
    "print(\"\\t\\t2: Subtract\")\n",
    "print(\"\\t\\t3: Multiply\")\n",
    "print(\"\\t\\t4: Divide\")\n",
    "print(\"\\t\\t5: Power\")\n",
    "\n",
    "\n",
    "choice = input(\"Enter choice 1--2--3--4--5): \")\n",
    "input_1 = float(input(\"Enter first number: \"))\n",
    "input_2 = float(input(\"Enter second number: \"))\n",
    "if choice == '1':\n",
    "    print(input_1, \"+\", input_2 , \"=\" , add(input_1, input_2))\n",
    "elif choice == '2':\n",
    "    print(input_1, \"-\", input_2 , \"=\" , subtract(input_1, input_2))\n",
    "elif choice == '3':\n",
    "    print(input_1, \"*\", input_2 , \"=\" , multiply(input_1, input_2))\n",
    "elif choice == '4':\n",
    "    print(input_1, \"/\", input_2 , \"=\" , divide(input_1, input_2))\n",
    "elif choice == '5':\n",
    "    print(input_1, \"^\", input_2, \"=\", power(input_1, input_2))\n",
    "else:\n",
    "    print(\"Invalid input\")"
   ]
  },
  {
   "cell_type": "markdown",
   "metadata": {
    "colab_type": "text",
    "id": "KxwFNvo4YNMx"
   },
   "source": [
    "## 2. Write a program to check if there is any numeric value in list using for loop"
   ]
  },
  {
   "cell_type": "code",
   "execution_count": 2,
   "metadata": {
    "colab": {},
    "colab_type": "code",
    "id": "Osb3qJZzWcJu"
   },
   "outputs": [
    {
     "name": "stdout",
     "output_type": "stream",
     "text": [
      "5 is a numeric Value in List\n",
      "40.0123 is a numeric Value in List\n",
      "3 is a numeric Value in List\n"
     ]
    }
   ],
   "source": [
    "my_list = ['1', 5, 40.0123, 'hello', 3, 'world']\n",
    "\n",
    "for i in my_list:\n",
    "    if type(i) == int:\n",
    "        print(i,\"is a numeric Value in List\")\n",
    "    elif type(i) == float:\n",
    "        print(i,\"is a numeric Value in List\")"
   ]
  },
  {
   "cell_type": "markdown",
   "metadata": {
    "colab_type": "text",
    "id": "H9QdzVj8eMN7"
   },
   "source": [
    "## 3. Write a Python script to add a key to a dictionary"
   ]
  },
  {
   "cell_type": "code",
   "execution_count": 3,
   "metadata": {
    "colab": {
     "base_uri": "https://localhost:8080/",
     "height": 54
    },
    "colab_type": "code",
    "id": "l_Q4AerlaIfw",
    "outputId": "8b7bec88-4a87-4a88-8526-b3a2107aed00"
   },
   "outputs": [
    {
     "name": "stdout",
     "output_type": "stream",
     "text": [
      "{1: 5, 2: 10, 3: 15, 4: 20}\n",
      "{1: 5, 2: 10, 3: 15, 4: 20, 5: 25, 6: 30}\n"
     ]
    }
   ],
   "source": [
    "dic = {1:5, 2:10, 3:15, 4:20}\n",
    "print(dic)\n",
    "\n",
    "dic.update({5:25, 6:30})\n",
    "print(dic)"
   ]
  },
  {
   "cell_type": "markdown",
   "metadata": {
    "colab_type": "text",
    "id": "DXchMBRteQVT"
   },
   "source": [
    "## 4. Write a Python program to sum all the numeric items in a dictionary"
   ]
  },
  {
   "cell_type": "code",
   "execution_count": 4,
   "metadata": {
    "colab": {
     "base_uri": "https://localhost:8080/",
     "height": 35
    },
    "colab_type": "code",
    "id": "1xsuXifYeNQw",
    "outputId": "4e034a14-d007-4fb9-ce7d-3fee8b75651f"
   },
   "outputs": [
    {
     "name": "stdout",
     "output_type": "stream",
     "text": [
      "Sum of all numeric items a dictionary is 90\n"
     ]
    }
   ],
   "source": [
    "my_dict = {'a': 10, 'b':\"20\", 'c':30, 'd':\"40\", 'e':50}\n",
    "\n",
    "sum = 0\n",
    "for i in my_dict.values():\n",
    "    if type(i) == int:\n",
    "        sum +=i\n",
    "\n",
    "print(\"Sum of all numeric items a dictionary is\" , sum)"
   ]
  },
  {
   "cell_type": "markdown",
   "metadata": {
    "colab_type": "text",
    "id": "kHyWxL89eTVH"
   },
   "source": [
    "## 5. Write a program to identify duplicate values from list"
   ]
  },
  {
   "cell_type": "code",
   "execution_count": 5,
   "metadata": {
    "colab": {
     "base_uri": "https://localhost:8080/",
     "height": 35
    },
    "colab_type": "code",
    "id": "HqubkrhteV6Q",
    "outputId": "dab48e7e-e4ee-4365-ae7a-10ce95d116b3"
   },
   "outputs": [
    {
     "name": "stdout",
     "output_type": "stream",
     "text": [
      "Duplicate values in list :  [1, 3, 4, 7, 5, 8, 13]\n"
     ]
    }
   ],
   "source": [
    "my_list = [1,3,3,4,7,4,1,3,5,7,8,0,8,65,2,13,5,7,3,13,5,7,8,3,1]\n",
    "\n",
    "lst_range = len(my_list)\n",
    "duplicate = []\n",
    "for i in range(lst_range):\n",
    "    a = i + 1\n",
    "    for b in range(a, lst_range):\n",
    "        if my_list[i] == my_list[b] and my_list[i] not in duplicate:\n",
    "            duplicate.append(my_list[i])\n",
    "\n",
    "print(\"Duplicate values in list : \" , duplicate)"
   ]
  },
  {
   "cell_type": "markdown",
   "metadata": {
    "colab_type": "text",
    "id": "m1-eJkdReXeU"
   },
   "source": [
    "## 6. Write a Python script to check if a given key already exists in a dictionary"
   ]
  },
  {
   "cell_type": "code",
   "execution_count": 6,
   "metadata": {
    "colab": {
     "base_uri": "https://localhost:8080/",
     "height": 72
    },
    "colab_type": "code",
    "id": "gMQ2T0ACeYdQ",
    "outputId": "c105fe23-7783-41c4-8742-9d30779f70e7"
   },
   "outputs": [
    {
     "name": "stdout",
     "output_type": "stream",
     "text": [
      "key already exists in a dictionary\n",
      "key already exists in a dictionary\n",
      "Key not found\n"
     ]
    }
   ],
   "source": [
    "my_dict = {1: 5, 2: 10, 3: 15, 4: 20, 5: 25, 6: 30}\n",
    "def find_key(x):\n",
    "    if x in my_dict.keys():\n",
    "        print('key already exists in a dictionary')\n",
    "    else:\n",
    "        print('Key not found')\n",
    "\n",
    "find_key(5)\n",
    "find_key(1)\n",
    "find_key(121)"
   ]
  },
  {
   "cell_type": "code",
   "execution_count": null,
   "metadata": {
    "colab": {},
    "colab_type": "code",
    "id": "Yw2mRl36-ztf"
   },
   "outputs": [],
   "source": []
  }
 ],
 "metadata": {
  "colab": {
   "collapsed_sections": [
    "H9QdzVj8eMN7"
   ],
   "name": "Assignment 3.ipynb",
   "provenance": []
  },
  "kernelspec": {
   "display_name": "Python 3",
   "language": "python",
   "name": "python3"
  },
  "language_info": {
   "codemirror_mode": {
    "name": "ipython",
    "version": 3
   },
   "file_extension": ".py",
   "mimetype": "text/x-python",
   "name": "python",
   "nbconvert_exporter": "python",
   "pygments_lexer": "ipython3",
   "version": "3.7.3"
  }
 },
 "nbformat": 4,
 "nbformat_minor": 1
}

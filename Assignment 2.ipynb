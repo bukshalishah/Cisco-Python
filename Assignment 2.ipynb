{
  "nbformat": 4,
  "nbformat_minor": 0,
  "metadata": {
    "colab": {
      "name": "Assignment 2.ipynb",
      "provenance": [],
      "collapsed_sections": [],
      "include_colab_link": true
    },
    "kernelspec": {
      "name": "python3",
      "display_name": "Python 3"
    }
  },
  "cells": [
    {
      "cell_type": "markdown",
      "metadata": {
        "id": "view-in-github",
        "colab_type": "text"
      },
      "source": [
        "<a href=\"https://colab.research.google.com/github/bukshalishah/Cisco-Python/blob/master/Assignment%202.ipynb\" target=\"_parent\"><img src=\"https://colab.research.google.com/assets/colab-badge.svg\" alt=\"Open In Colab\"/></a>"
      ]
    },
    {
      "cell_type": "markdown",
      "metadata": {
        "id": "RLsuWwKIU2vm",
        "colab_type": "text"
      },
      "source": [
        "\n",
        "## 1. Write a program which takes 5 inputs from user for different subject’s marks, total it and generate mark sheet using grades?\n"
      ]
    },
    {
      "cell_type": "code",
      "metadata": {
        "id": "8sggMCq8NhpC",
        "colab_type": "code",
        "outputId": "1ffaca08-ea3e-4c19-b448-d33ee7c92a03",
        "colab": {
          "base_uri": "https://localhost:8080/",
          "height": 199
        }
      },
      "source": [
        "total_marks = 500\n",
        "\n",
        "English =  int(input(\"English marks     : \"))\n",
        "Urdu =     int(input(\"Urdu marks        : \"))\n",
        "Physics =  int(input(\"Physics marks     : \"))\n",
        "Computer = int(input(\"Computer marks    : \"))\n",
        "Maths =    int(input(\"Maths marks       : \"))\n",
        "\n",
        "obtained_marks = English + Urdu + Physics + Computer + Maths\n",
        "percentage = (obtained_marks/total_marks) * 100\n",
        "\n",
        "if (percentage >= 90):\n",
        "  grade = \"A+\"\n",
        "elif (percentage >= 80 and percentage < 90):\n",
        "  grade = \"A\"\n",
        "elif (percentage >= 70 and percentage < 80):\n",
        "  grade = \"B\"\n",
        "elif (percentage >= 60 and percentage < 70):\n",
        "  grade = \"C\"\n",
        "elif (percentage >= 50 and percentage < 60):\n",
        "  grade = \"D\"\n",
        "else:\n",
        "  grede = 'F'\n",
        "\n",
        "print(\"\\t--Result--\")\n",
        "print(\"Percentage      : \" + str(percentage))\n",
        "print(\"Total marks     : \" + str(total_marks))\n",
        "print(\"Obtained marks  : \" + str(obtained_marks))\n",
        "print(\"Grade           : \" + grade)"
      ],
      "execution_count": 1,
      "outputs": [
        {
          "output_type": "stream",
          "text": [
            "English marks     : 60\n",
            "Urdu marks        : 70\n",
            "Physics marks     : 57\n",
            "Computer marks    : 37\n",
            "Maths marks       : 90\n",
            "\t--Result--\n",
            "Percentage      : 62.8\n",
            "Total marks     : 500\n",
            "Obtained marks  : 314\n",
            "Grade           : C\n"
          ],
          "name": "stdout"
        }
      ]
    },
    {
      "cell_type": "markdown",
      "metadata": {
        "id": "6jDhtn2qVKXy",
        "colab_type": "text"
      },
      "source": [
        "## 2. Write a program which take input from user and identify that the given number is even or odd?"
      ]
    },
    {
      "cell_type": "code",
      "metadata": {
        "id": "VX33AHI3PDZi",
        "colab_type": "code",
        "outputId": "fc43eebd-6cb9-4c06-b299-2e8ef90cfea7",
        "colab": {
          "base_uri": "https://localhost:8080/",
          "height": 54
        }
      },
      "source": [
        "num = int(input(\"Enter a number: \"))\n",
        "if num % 2 == 0:\n",
        "  print(str(num) + \" This number is even.\")\n",
        "else:\n",
        "  print(str(num) + \" This number is odd.\")"
      ],
      "execution_count": 2,
      "outputs": [
        {
          "output_type": "stream",
          "text": [
            "Enter a number: 2\n",
            "2 This number is even.\n"
          ],
          "name": "stdout"
        }
      ]
    },
    {
      "cell_type": "markdown",
      "metadata": {
        "id": "Phnj8KhPVRhq",
        "colab_type": "text"
      },
      "source": [
        "## 3. Write a program which print the length of the list?"
      ]
    },
    {
      "cell_type": "code",
      "metadata": {
        "id": "B26lfhoRQ3p8",
        "colab_type": "code",
        "outputId": "b1a0bdf4-d307-418f-f1ad-fd559ae1e2f1",
        "colab": {
          "base_uri": "https://localhost:8080/",
          "height": 35
        }
      },
      "source": [
        "my_list = [1,2,3,4,5,6,7,8,9,10]\n",
        "length = len(my_list)\n",
        "print(\"Length of list: \", length)"
      ],
      "execution_count": 3,
      "outputs": [
        {
          "output_type": "stream",
          "text": [
            "Length of list:  10\n"
          ],
          "name": "stdout"
        }
      ]
    },
    {
      "cell_type": "markdown",
      "metadata": {
        "id": "5mcRretRVXM5",
        "colab_type": "text"
      },
      "source": [
        "## 4. Write a Python program to sum all the numeric items in a list?"
      ]
    },
    {
      "cell_type": "code",
      "metadata": {
        "id": "IIuhbOoDRhws",
        "colab_type": "code",
        "outputId": "4cb30898-dccf-40ad-cacb-674adfa76745",
        "colab": {
          "base_uri": "https://localhost:8080/",
          "height": 35
        }
      },
      "source": [
        "my_list = [1,2,3,4,5,6,7,8,9,10]\n",
        "sum(my_list)"
      ],
      "execution_count": 4,
      "outputs": [
        {
          "output_type": "execute_result",
          "data": {
            "text/plain": [
              "55"
            ]
          },
          "metadata": {
            "tags": []
          },
          "execution_count": 4
        }
      ]
    },
    {
      "cell_type": "markdown",
      "metadata": {
        "id": "ucbe1ihfVcIB",
        "colab_type": "text"
      },
      "source": [
        "## 5. Write a Python program to get the largest number from a numeric list?"
      ]
    },
    {
      "cell_type": "code",
      "metadata": {
        "id": "mfdFfHwuR55s",
        "colab_type": "code",
        "outputId": "d5e7f3e2-9d70-4386-ca34-ac9ad8ab153f",
        "colab": {
          "base_uri": "https://localhost:8080/",
          "height": 35
        }
      },
      "source": [
        "my_list = [1,2,3,4,5,6,7,8,9,10]\n",
        "max(my_list)"
      ],
      "execution_count": 5,
      "outputs": [
        {
          "output_type": "execute_result",
          "data": {
            "text/plain": [
              "10"
            ]
          },
          "metadata": {
            "tags": []
          },
          "execution_count": 5
        }
      ]
    },
    {
      "cell_type": "markdown",
      "metadata": {
        "id": "5U4-BvTSVfwM",
        "colab_type": "text"
      },
      "source": [
        "## 6. Take a list, say for example this one:\n",
        "a = [1, 1, 2, 3, 5, 8, 13, 21, 34, 55, 89]\n",
        "\n",
        "## and write a program that prints out all the elements of the list that are  less than 5. "
      ]
    },
    {
      "cell_type": "code",
      "metadata": {
        "id": "hfITM2VVSK5r",
        "colab_type": "code",
        "outputId": "a25c63bf-ccc9-4ef1-b8a3-c5d4c526d0f1",
        "colab": {
          "base_uri": "https://localhost:8080/",
          "height": 35
        }
      },
      "source": [
        "a = [1, 1, 2, 3, 5, 8, 13, 21, 34, 55, 89]\n",
        "[x for x in a if x < 5]"
      ],
      "execution_count": 6,
      "outputs": [
        {
          "output_type": "execute_result",
          "data": {
            "text/plain": [
              "[1, 1, 2, 3]"
            ]
          },
          "metadata": {
            "tags": []
          },
          "execution_count": 6
        }
      ]
    }
  ]
}
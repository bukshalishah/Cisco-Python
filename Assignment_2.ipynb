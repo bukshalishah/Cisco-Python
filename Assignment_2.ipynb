{
  "nbformat": 4,
  "nbformat_minor": 0,
  "metadata": {
    "colab": {
      "name": "Assignment 2.ipynb",
      "provenance": [],
      "collapsed_sections": [],
      "include_colab_link": true
    },
    "kernelspec": {
      "name": "python3",
      "display_name": "Python 3"
    }
  },
  "cells": [
    {
      "cell_type": "markdown",
      "metadata": {
        "id": "view-in-github",
        "colab_type": "text"
      },
      "source": [
        "<a href=\"https://colab.research.google.com/github/bukshalishah/Cisco-Python/blob/master/Assignment_2.ipynb\" target=\"_parent\"><img src=\"https://colab.research.google.com/assets/colab-badge.svg\" alt=\"Open In Colab\"/></a>"
      ]
    },
    {
      "cell_type": "markdown",
      "metadata": {
        "id": "RLsuWwKIU2vm",
        "colab_type": "text"
      },
      "source": [
        "\n",
        "## 1. Write a program which takes 5 inputs from user for different subject’s marks, total it and generate mark sheet using grades?\n"
      ]
    },
    {
      "cell_type": "code",
      "metadata": {
        "id": "8sggMCq8NhpC",
        "colab_type": "code",
        "outputId": "01b23b8f-fe95-48cc-917f-946a1100d819",
        "colab": {
          "base_uri": "https://localhost:8080/",
          "height": 181
        }
      },
      "source": [
        "total_marks = 500\n",
        "\n",
        "English =int(input(\"Enter marks of the first subject: \"))\n",
        "Urdu =int(input(\"Enter marks of the second subject: \"))\n",
        "Physics =int(input(\"Enter marks of the third subject: \"))\n",
        "Computer =int(input(\"Enter marks of the fourth subject: \"))\n",
        "Maths =int(input(\"Enter marks of the fifth subject: \"))\n",
        "\n",
        "obtained_marks = English + Urdu + Physics + Computer + Maths\n",
        "percentage = (obtained_marks/total_marks) * 100\n",
        "\n",
        "if (percentage >= 90):\n",
        "  grade = \"A+\"\n",
        "elif (percentage >= 80 and percentage < 90):\n",
        "  grade = \"A\"\n",
        "elif (percentage >= 70 and percentage < 80):\n",
        "  grade = \"B\"\n",
        "elif (percentage >= 60 and percentage < 70):\n",
        "  grade = \"C\"\n",
        "elif (percentage >= 50 and percentage < 60):\n",
        "  grade = \"D\"\n",
        "else:\n",
        "  grede = 'F'\n",
        "print(\"percentage      : \" + str(percentage))\n",
        "print(\"Toral marks     : \" + str(total_marks))\n",
        "print(\"Obtained marks  : \" + str(obtained_marks))\n",
        "print(\"Grade           : \" + grade)"
      ],
      "execution_count": 8,
      "outputs": [
        {
          "output_type": "stream",
          "text": [
            "Enter marks of the first subject: 60\n",
            "Enter marks of the second subject: 89\n",
            "Enter marks of the third subject: 54\n",
            "Enter marks of the fourth subject: 37\n",
            "Enter marks of the fifth subject: 76\n",
            "percentage      : 63.2\n",
            "Toral marks     : 500\n",
            "Obtained marks  : 316\n",
            "Grade           : C\n"
          ],
          "name": "stdout"
        }
      ]
    },
    {
      "cell_type": "markdown",
      "metadata": {
        "id": "6jDhtn2qVKXy",
        "colab_type": "text"
      },
      "source": [
        "## 2. Write a program which take input from user and identify that the given number is even or odd?"
      ]
    },
    {
      "cell_type": "code",
      "metadata": {
        "id": "VX33AHI3PDZi",
        "colab_type": "code",
        "outputId": "29fb1f22-ffc6-440b-e9d0-2795ea4f3580",
        "colab": {
          "base_uri": "https://localhost:8080/",
          "height": 54
        }
      },
      "source": [
        "num = int(input(\"Enter a number: \"))\n",
        "if num % 2 == 0:\n",
        "  print(str(num) + \" This number is even.\")\n",
        "else:\n",
        "  print(str(num) + \" This number is odd.\")"
      ],
      "execution_count": 9,
      "outputs": [
        {
          "output_type": "stream",
          "text": [
            "Enter a number: 3\n",
            "3 This number is odd.\n"
          ],
          "name": "stdout"
        }
      ]
    },
    {
      "cell_type": "markdown",
      "metadata": {
        "id": "Phnj8KhPVRhq",
        "colab_type": "text"
      },
      "source": [
        "## 3. Write a program which print the length of the list?"
      ]
    },
    {
      "cell_type": "code",
      "metadata": {
        "id": "B26lfhoRQ3p8",
        "colab_type": "code",
        "outputId": "76dd569d-6bba-404a-f0eb-ca609480a064",
        "colab": {
          "base_uri": "https://localhost:8080/",
          "height": 35
        }
      },
      "source": [
        "my_list = [1,2,3,4,5,6,7,8,9,10]\n",
        "length = len(my_list)\n",
        "print(\"Length of list: \", length)"
      ],
      "execution_count": 10,
      "outputs": [
        {
          "output_type": "stream",
          "text": [
            "Length of list:  10\n"
          ],
          "name": "stdout"
        }
      ]
    },
    {
      "cell_type": "markdown",
      "metadata": {
        "id": "5mcRretRVXM5",
        "colab_type": "text"
      },
      "source": [
        "## 4. Write a Python program to sum all the numeric items in a list?"
      ]
    },
    {
      "cell_type": "code",
      "metadata": {
        "id": "IIuhbOoDRhws",
        "colab_type": "code",
        "outputId": "2fa9373d-c8ec-448b-da43-1d5781233e85",
        "colab": {
          "base_uri": "https://localhost:8080/",
          "height": 35
        }
      },
      "source": [
        "my_list = [1,2,3,4,5,6,7,8,9,10]\n",
        "sum(my_list)"
      ],
      "execution_count": 11,
      "outputs": [
        {
          "output_type": "execute_result",
          "data": {
            "text/plain": [
              "55"
            ]
          },
          "metadata": {
            "tags": []
          },
          "execution_count": 11
        }
      ]
    },
    {
      "cell_type": "markdown",
      "metadata": {
        "id": "ucbe1ihfVcIB",
        "colab_type": "text"
      },
      "source": [
        "## 5. Write a Python program to get the largest number from a numeric list?"
      ]
    },
    {
      "cell_type": "code",
      "metadata": {
        "id": "mfdFfHwuR55s",
        "colab_type": "code",
        "outputId": "b34f9537-46d3-4bcd-8761-a10d55b6aa72",
        "colab": {
          "base_uri": "https://localhost:8080/",
          "height": 35
        }
      },
      "source": [
        "my_list = [1,2,3,4,5,6,7,8,9,10]\n",
        "max(my_list)"
      ],
      "execution_count": 12,
      "outputs": [
        {
          "output_type": "execute_result",
          "data": {
            "text/plain": [
              "10"
            ]
          },
          "metadata": {
            "tags": []
          },
          "execution_count": 12
        }
      ]
    },
    {
      "cell_type": "markdown",
      "metadata": {
        "id": "5U4-BvTSVfwM",
        "colab_type": "text"
      },
      "source": [
        "## 6. Take a list, say for example this one:\n",
        "a = [1, 1, 2, 3, 5, 8, 13, 21, 34, 55, 89]\n",
        "\n",
        "## and write a program that prints out all the elements of the list that are  less than 5. "
      ]
    },
    {
      "cell_type": "code",
      "metadata": {
        "id": "hfITM2VVSK5r",
        "colab_type": "code",
        "outputId": "061d56c5-36a7-4209-8297-3d1e1b75f6cc",
        "colab": {
          "base_uri": "https://localhost:8080/",
          "height": 35
        }
      },
      "source": [
        "a = [1, 1, 2, 3, 5, 8, 13, 21, 34, 55, 89]\n",
        "[x for x in a if x < 5]"
      ],
      "execution_count": 13,
      "outputs": [
        {
          "output_type": "execute_result",
          "data": {
            "text/plain": [
              "[1, 1, 2, 3]"
            ]
          },
          "metadata": {
            "tags": []
          },
          "execution_count": 13
        }
      ]
    }
  ]
}